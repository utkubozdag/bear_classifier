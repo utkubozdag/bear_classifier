{
 "cells": [
  {
   "cell_type": "code",
   "execution_count": 7,
   "id": "e05d65e9",
   "metadata": {},
   "outputs": [],
   "source": [
    "from fastai.vision.all import *\n",
    "from fastai.vision.widgets import *"
   ]
  },
  {
   "cell_type": "code",
   "execution_count": 8,
   "id": "f5e4262f",
   "metadata": {},
   "outputs": [],
   "source": [
    "path = Path()\n",
    "learn_inf = load_learner(path/'export.pkl', cpu=True)\n",
    "btn_upload = widgets.FileUpload()\n",
    "out_pl = widgets.Output()\n",
    "lbl_pred = widgets.Label()"
   ]
  },
  {
   "cell_type": "code",
   "execution_count": 10,
   "id": "7ac7cd06",
   "metadata": {},
   "outputs": [],
   "source": [
    "def on_data_change(change):\n",
    "    try:\n",
    "        img = PILImage.create(btn_upload.data[-1])\n",
    "        out_pl.clear_output()\n",
    "        with out_pl: display(img.to_thumb(128,128))\n",
    "    except Exception as e:\n",
    "        print(\"Error displaying image:\", e)\n",
    "\n",
    "def on_predict_btn_click(b):\n",
    "    try:\n",
    "        img = PILImage.create(btn_upload.data[-1])\n",
    "        pred, pred_idx, probs = learn_inf.predict(img)\n",
    "        lbl_pred.value = f'Prediction: {pred}; Probability: {probs[pred_idx]:.04f}'\n",
    "    except Exception as e:\n",
    "        print(\"Error during prediction:\", e)\n",
    "\n",
    "btn_predict = widgets.Button(description=\"Predict\")\n",
    "btn_predict.on_click(on_predict_btn_click)\n",
    "\n",
    "display(VBox([widgets.Label('Select your bear!'), btn_upload, out_pl, btn_predict, lbl_pred]))\n"
   ]
  }
 ],
 "metadata": {
  "kernelspec": {
   "display_name": "Python 3 (ipykernel)",
   "language": "python",
   "name": "python3"
  },
  "language_info": {
   "codemirror_mode": {
    "name": "ipython",
    "version": 3
   },
   "file_extension": ".py",
   "mimetype": "text/x-python",
   "name": "python",
   "nbconvert_exporter": "python",
   "pygments_lexer": "ipython3",
   "version": "3.10.13"
  },
  "toc": {
   "base_numbering": 1,
   "nav_menu": {},
   "number_sections": true,
   "sideBar": true,
   "skip_h1_title": false,
   "title_cell": "Table of Contents",
   "title_sidebar": "Contents",
   "toc_cell": false,
   "toc_position": {},
   "toc_section_display": true,
   "toc_window_display": false
  }
 },
 "nbformat": 4,
 "nbformat_minor": 5
}
