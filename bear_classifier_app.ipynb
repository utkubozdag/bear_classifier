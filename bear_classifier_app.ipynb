{
 "cells": [
  {
   "cell_type": "code",
   "execution_count": 1,
   "id": "a40d111f",
   "metadata": {
    "collapsed": true
   },
   "outputs": [
    {
     "name": "stdout",
     "output_type": "stream",
     "text": [
      "Collecting voila\n",
      "  Downloading voila-0.5.5-py3-none-any.whl.metadata (9.0 kB)\n",
      "Requirement already satisfied: jupyter-client<9,>=7.4.4 in /home/utkubozdag/mambaforge/envs/jupyter_env/lib/python3.10/site-packages (from voila) (8.6.0)\n",
      "Requirement already satisfied: jupyter-core>=4.11.0 in /home/utkubozdag/mambaforge/envs/jupyter_env/lib/python3.10/site-packages (from voila) (5.6.0)\n",
      "Requirement already satisfied: jupyter-server<3,>=2.0.0 in /home/utkubozdag/mambaforge/envs/jupyter_env/lib/python3.10/site-packages (from voila) (2.12.1)\n",
      "Requirement already satisfied: jupyterlab-server<3,>=2.3.0 in /home/utkubozdag/mambaforge/envs/jupyter_env/lib/python3.10/site-packages (from voila) (2.25.2)\n",
      "Collecting nbclient<0.8,>=0.4.0 (from voila)\n",
      "  Downloading nbclient-0.7.4-py3-none-any.whl (73 kB)\n",
      "\u001b[2K     \u001b[90m━━━━━━━━━━━━━━━━━━━━━━━━━━━━━━━━━━━━━━━━\u001b[0m \u001b[32m73.1/73.1 kB\u001b[0m \u001b[31m2.0 MB/s\u001b[0m eta \u001b[36m0:00:00\u001b[0m\n",
      "\u001b[?25hRequirement already satisfied: nbconvert<8,>=6.4.5 in /home/utkubozdag/mambaforge/envs/jupyter_env/lib/python3.10/site-packages (from voila) (7.13.1)\n",
      "Requirement already satisfied: traitlets<6,>=5.0.3 in /home/utkubozdag/mambaforge/envs/jupyter_env/lib/python3.10/site-packages (from voila) (5.9.0)\n",
      "Requirement already satisfied: websockets>=9.0 in /home/utkubozdag/mambaforge/envs/jupyter_env/lib/python3.10/site-packages (from voila) (11.0.3)\n",
      "Requirement already satisfied: python-dateutil>=2.8.2 in /home/utkubozdag/mambaforge/envs/jupyter_env/lib/python3.10/site-packages (from jupyter-client<9,>=7.4.4->voila) (2.8.2)\n",
      "Requirement already satisfied: pyzmq>=23.0 in /home/utkubozdag/mambaforge/envs/jupyter_env/lib/python3.10/site-packages (from jupyter-client<9,>=7.4.4->voila) (25.1.2)\n",
      "Requirement already satisfied: tornado>=6.2 in /home/utkubozdag/mambaforge/envs/jupyter_env/lib/python3.10/site-packages (from jupyter-client<9,>=7.4.4->voila) (6.3.3)\n",
      "Requirement already satisfied: platformdirs>=2.5 in /home/utkubozdag/mambaforge/envs/jupyter_env/lib/python3.10/site-packages (from jupyter-core>=4.11.0->voila) (4.1.0)\n",
      "Requirement already satisfied: anyio>=3.1.0 in /home/utkubozdag/mambaforge/envs/jupyter_env/lib/python3.10/site-packages (from jupyter-server<3,>=2.0.0->voila) (4.2.0)\n",
      "Requirement already satisfied: argon2-cffi in /home/utkubozdag/mambaforge/envs/jupyter_env/lib/python3.10/site-packages (from jupyter-server<3,>=2.0.0->voila) (23.1.0)\n",
      "Requirement already satisfied: jinja2 in /home/utkubozdag/mambaforge/envs/jupyter_env/lib/python3.10/site-packages (from jupyter-server<3,>=2.0.0->voila) (3.1.2)\n",
      "Requirement already satisfied: jupyter-events>=0.9.0 in /home/utkubozdag/mambaforge/envs/jupyter_env/lib/python3.10/site-packages (from jupyter-server<3,>=2.0.0->voila) (0.9.0)\n",
      "Requirement already satisfied: jupyter-server-terminals in /home/utkubozdag/mambaforge/envs/jupyter_env/lib/python3.10/site-packages (from jupyter-server<3,>=2.0.0->voila) (0.5.1)\n",
      "Requirement already satisfied: nbformat>=5.3.0 in /home/utkubozdag/mambaforge/envs/jupyter_env/lib/python3.10/site-packages (from jupyter-server<3,>=2.0.0->voila) (5.9.2)\n",
      "Requirement already satisfied: overrides in /home/utkubozdag/mambaforge/envs/jupyter_env/lib/python3.10/site-packages (from jupyter-server<3,>=2.0.0->voila) (7.4.0)\n",
      "Requirement already satisfied: packaging in /home/utkubozdag/mambaforge/envs/jupyter_env/lib/python3.10/site-packages (from jupyter-server<3,>=2.0.0->voila) (23.2)\n",
      "Requirement already satisfied: prometheus-client in /home/utkubozdag/mambaforge/envs/jupyter_env/lib/python3.10/site-packages (from jupyter-server<3,>=2.0.0->voila) (0.19.0)\n",
      "Requirement already satisfied: send2trash>=1.8.2 in /home/utkubozdag/mambaforge/envs/jupyter_env/lib/python3.10/site-packages (from jupyter-server<3,>=2.0.0->voila) (1.8.2)\n",
      "Requirement already satisfied: terminado>=0.8.3 in /home/utkubozdag/mambaforge/envs/jupyter_env/lib/python3.10/site-packages (from jupyter-server<3,>=2.0.0->voila) (0.18.0)\n",
      "Requirement already satisfied: websocket-client in /home/utkubozdag/mambaforge/envs/jupyter_env/lib/python3.10/site-packages (from jupyter-server<3,>=2.0.0->voila) (1.7.0)\n",
      "Requirement already satisfied: babel>=2.10 in /home/utkubozdag/mambaforge/envs/jupyter_env/lib/python3.10/site-packages (from jupyterlab-server<3,>=2.3.0->voila) (2.14.0)\n",
      "Requirement already satisfied: json5>=0.9.0 in /home/utkubozdag/mambaforge/envs/jupyter_env/lib/python3.10/site-packages (from jupyterlab-server<3,>=2.3.0->voila) (0.9.14)\n",
      "Requirement already satisfied: jsonschema>=4.18.0 in /home/utkubozdag/mambaforge/envs/jupyter_env/lib/python3.10/site-packages (from jupyterlab-server<3,>=2.3.0->voila) (4.20.0)\n",
      "Requirement already satisfied: requests>=2.31 in /home/utkubozdag/mambaforge/envs/jupyter_env/lib/python3.10/site-packages (from jupyterlab-server<3,>=2.3.0->voila) (2.31.0)\n",
      "Requirement already satisfied: beautifulsoup4 in /home/utkubozdag/mambaforge/envs/jupyter_env/lib/python3.10/site-packages (from nbconvert<8,>=6.4.5->voila) (4.12.2)\n",
      "Requirement already satisfied: bleach!=5.0.0 in /home/utkubozdag/mambaforge/envs/jupyter_env/lib/python3.10/site-packages (from nbconvert<8,>=6.4.5->voila) (6.1.0)\n",
      "Requirement already satisfied: defusedxml in /home/utkubozdag/mambaforge/envs/jupyter_env/lib/python3.10/site-packages (from nbconvert<8,>=6.4.5->voila) (0.7.1)\n",
      "Requirement already satisfied: jupyterlab-pygments in /home/utkubozdag/mambaforge/envs/jupyter_env/lib/python3.10/site-packages (from nbconvert<8,>=6.4.5->voila) (0.3.0)\n",
      "Requirement already satisfied: markupsafe>=2.0 in /home/utkubozdag/mambaforge/envs/jupyter_env/lib/python3.10/site-packages (from nbconvert<8,>=6.4.5->voila) (2.1.3)\n",
      "Requirement already satisfied: mistune<4,>=2.0.3 in /home/utkubozdag/mambaforge/envs/jupyter_env/lib/python3.10/site-packages (from nbconvert<8,>=6.4.5->voila) (3.0.2)\n",
      "Requirement already satisfied: pandocfilters>=1.4.1 in /home/utkubozdag/mambaforge/envs/jupyter_env/lib/python3.10/site-packages (from nbconvert<8,>=6.4.5->voila) (1.5.0)\n",
      "Requirement already satisfied: pygments>=2.4.1 in /home/utkubozdag/mambaforge/envs/jupyter_env/lib/python3.10/site-packages (from nbconvert<8,>=6.4.5->voila) (2.17.2)\n",
      "Requirement already satisfied: tinycss2 in /home/utkubozdag/mambaforge/envs/jupyter_env/lib/python3.10/site-packages (from nbconvert<8,>=6.4.5->voila) (1.2.1)\n",
      "Requirement already satisfied: idna>=2.8 in /home/utkubozdag/mambaforge/envs/jupyter_env/lib/python3.10/site-packages (from anyio>=3.1.0->jupyter-server<3,>=2.0.0->voila) (3.6)\n",
      "Requirement already satisfied: sniffio>=1.1 in /home/utkubozdag/mambaforge/envs/jupyter_env/lib/python3.10/site-packages (from anyio>=3.1.0->jupyter-server<3,>=2.0.0->voila) (1.3.0)\n",
      "Requirement already satisfied: exceptiongroup>=1.0.2 in /home/utkubozdag/mambaforge/envs/jupyter_env/lib/python3.10/site-packages (from anyio>=3.1.0->jupyter-server<3,>=2.0.0->voila) (1.2.0)\n",
      "Requirement already satisfied: typing-extensions>=4.1 in /home/utkubozdag/mambaforge/envs/jupyter_env/lib/python3.10/site-packages (from anyio>=3.1.0->jupyter-server<3,>=2.0.0->voila) (4.9.0)\n",
      "Requirement already satisfied: six>=1.9.0 in /home/utkubozdag/mambaforge/envs/jupyter_env/lib/python3.10/site-packages (from bleach!=5.0.0->nbconvert<8,>=6.4.5->voila) (1.16.0)\n",
      "Requirement already satisfied: webencodings in /home/utkubozdag/mambaforge/envs/jupyter_env/lib/python3.10/site-packages (from bleach!=5.0.0->nbconvert<8,>=6.4.5->voila) (0.5.1)\n",
      "Requirement already satisfied: attrs>=22.2.0 in /home/utkubozdag/mambaforge/envs/jupyter_env/lib/python3.10/site-packages (from jsonschema>=4.18.0->jupyterlab-server<3,>=2.3.0->voila) (23.1.0)\n",
      "Requirement already satisfied: jsonschema-specifications>=2023.03.6 in /home/utkubozdag/mambaforge/envs/jupyter_env/lib/python3.10/site-packages (from jsonschema>=4.18.0->jupyterlab-server<3,>=2.3.0->voila) (2023.12.1)\n",
      "Requirement already satisfied: referencing>=0.28.4 in /home/utkubozdag/mambaforge/envs/jupyter_env/lib/python3.10/site-packages (from jsonschema>=4.18.0->jupyterlab-server<3,>=2.3.0->voila) (0.32.0)\n",
      "Requirement already satisfied: rpds-py>=0.7.1 in /home/utkubozdag/mambaforge/envs/jupyter_env/lib/python3.10/site-packages (from jsonschema>=4.18.0->jupyterlab-server<3,>=2.3.0->voila) (0.16.2)\n",
      "Requirement already satisfied: python-json-logger>=2.0.4 in /home/utkubozdag/mambaforge/envs/jupyter_env/lib/python3.10/site-packages (from jupyter-events>=0.9.0->jupyter-server<3,>=2.0.0->voila) (2.0.7)\n",
      "Requirement already satisfied: pyyaml>=5.3 in /home/utkubozdag/mambaforge/envs/jupyter_env/lib/python3.10/site-packages (from jupyter-events>=0.9.0->jupyter-server<3,>=2.0.0->voila) (6.0.1)\n",
      "Requirement already satisfied: rfc3339-validator in /home/utkubozdag/mambaforge/envs/jupyter_env/lib/python3.10/site-packages (from jupyter-events>=0.9.0->jupyter-server<3,>=2.0.0->voila) (0.1.4)\n",
      "Requirement already satisfied: rfc3986-validator>=0.1.1 in /home/utkubozdag/mambaforge/envs/jupyter_env/lib/python3.10/site-packages (from jupyter-events>=0.9.0->jupyter-server<3,>=2.0.0->voila) (0.1.1)\n"
     ]
    },
    {
     "name": "stdout",
     "output_type": "stream",
     "text": [
      "Requirement already satisfied: fastjsonschema in /home/utkubozdag/mambaforge/envs/jupyter_env/lib/python3.10/site-packages (from nbformat>=5.3.0->jupyter-server<3,>=2.0.0->voila) (2.19.1)\n",
      "Requirement already satisfied: charset-normalizer<4,>=2 in /home/utkubozdag/mambaforge/envs/jupyter_env/lib/python3.10/site-packages (from requests>=2.31->jupyterlab-server<3,>=2.3.0->voila) (3.3.2)\n",
      "Requirement already satisfied: urllib3<3,>=1.21.1 in /home/utkubozdag/mambaforge/envs/jupyter_env/lib/python3.10/site-packages (from requests>=2.31->jupyterlab-server<3,>=2.3.0->voila) (2.1.0)\n",
      "Requirement already satisfied: certifi>=2017.4.17 in /home/utkubozdag/mambaforge/envs/jupyter_env/lib/python3.10/site-packages (from requests>=2.31->jupyterlab-server<3,>=2.3.0->voila) (2023.11.17)\n",
      "Requirement already satisfied: ptyprocess in /home/utkubozdag/mambaforge/envs/jupyter_env/lib/python3.10/site-packages (from terminado>=0.8.3->jupyter-server<3,>=2.0.0->voila) (0.7.0)\n",
      "Requirement already satisfied: argon2-cffi-bindings in /home/utkubozdag/mambaforge/envs/jupyter_env/lib/python3.10/site-packages (from argon2-cffi->jupyter-server<3,>=2.0.0->voila) (21.2.0)\n",
      "Requirement already satisfied: soupsieve>1.2 in /home/utkubozdag/mambaforge/envs/jupyter_env/lib/python3.10/site-packages (from beautifulsoup4->nbconvert<8,>=6.4.5->voila) (2.5)\n",
      "Requirement already satisfied: fqdn in /home/utkubozdag/mambaforge/envs/jupyter_env/lib/python3.10/site-packages (from jsonschema[format-nongpl]>=4.18.0->jupyter-events>=0.9.0->jupyter-server<3,>=2.0.0->voila) (1.5.1)\n",
      "Requirement already satisfied: isoduration in /home/utkubozdag/mambaforge/envs/jupyter_env/lib/python3.10/site-packages (from jsonschema[format-nongpl]>=4.18.0->jupyter-events>=0.9.0->jupyter-server<3,>=2.0.0->voila) (20.11.0)\n",
      "Requirement already satisfied: jsonpointer>1.13 in /home/utkubozdag/mambaforge/envs/jupyter_env/lib/python3.10/site-packages (from jsonschema[format-nongpl]>=4.18.0->jupyter-events>=0.9.0->jupyter-server<3,>=2.0.0->voila) (2.4)\n",
      "Requirement already satisfied: uri-template in /home/utkubozdag/mambaforge/envs/jupyter_env/lib/python3.10/site-packages (from jsonschema[format-nongpl]>=4.18.0->jupyter-events>=0.9.0->jupyter-server<3,>=2.0.0->voila) (1.3.0)\n",
      "Requirement already satisfied: webcolors>=1.11 in /home/utkubozdag/mambaforge/envs/jupyter_env/lib/python3.10/site-packages (from jsonschema[format-nongpl]>=4.18.0->jupyter-events>=0.9.0->jupyter-server<3,>=2.0.0->voila) (1.13)\n",
      "Requirement already satisfied: cffi>=1.0.1 in /home/utkubozdag/mambaforge/envs/jupyter_env/lib/python3.10/site-packages (from argon2-cffi-bindings->argon2-cffi->jupyter-server<3,>=2.0.0->voila) (1.16.0)\n",
      "Requirement already satisfied: pycparser in /home/utkubozdag/mambaforge/envs/jupyter_env/lib/python3.10/site-packages (from cffi>=1.0.1->argon2-cffi-bindings->argon2-cffi->jupyter-server<3,>=2.0.0->voila) (2.21)\n",
      "Requirement already satisfied: arrow>=0.15.0 in /home/utkubozdag/mambaforge/envs/jupyter_env/lib/python3.10/site-packages (from isoduration->jsonschema[format-nongpl]>=4.18.0->jupyter-events>=0.9.0->jupyter-server<3,>=2.0.0->voila) (1.3.0)\n",
      "Requirement already satisfied: types-python-dateutil>=2.8.10 in /home/utkubozdag/mambaforge/envs/jupyter_env/lib/python3.10/site-packages (from arrow>=0.15.0->isoduration->jsonschema[format-nongpl]>=4.18.0->jupyter-events>=0.9.0->jupyter-server<3,>=2.0.0->voila) (2.8.19.14)\n",
      "Downloading voila-0.5.5-py3-none-any.whl (3.9 MB)\n",
      "\u001b[2K   \u001b[90m━━━━━━━━━━━━━━━━━━━━━━━━━━━━━━━━━━━━━━━━\u001b[0m \u001b[32m3.9/3.9 MB\u001b[0m \u001b[31m16.6 MB/s\u001b[0m eta \u001b[36m0:00:00\u001b[0m00:01\u001b[0m00:01\u001b[0m\n",
      "\u001b[?25hInstalling collected packages: nbclient, voila\n",
      "  Attempting uninstall: nbclient\n",
      "    Found existing installation: nbclient 0.8.0\n",
      "    Uninstalling nbclient-0.8.0:\n",
      "      Successfully uninstalled nbclient-0.8.0\n",
      "Successfully installed nbclient-0.7.4 voila-0.5.5\n",
      "Enabling: voila\n",
      "- Writing config: /home/utkubozdag/mambaforge/envs/jupyter_env/etc/jupyter\n",
      "    - Validating...\n",
      "      voila 0.5.5 \u001b[32mOK\u001b[0m\n"
     ]
    }
   ],
   "source": [
    "!pip install voila\n",
    "!jupyter serverextension enable --sys-prefix voila"
   ]
  },
  {
   "cell_type": "code",
   "execution_count": 2,
   "id": "e05d65e9",
   "metadata": {},
   "outputs": [],
   "source": [
    "from fastai.vision.all import *\n",
    "from fastai.vision.widgets import *"
   ]
  },
  {
   "cell_type": "code",
   "execution_count": 5,
   "id": "f5e4262f",
   "metadata": {},
   "outputs": [],
   "source": [
    "path = Path()\n",
    "learn_inf = load_learner(path/'export.pkl', cpu=True)\n",
    "btn_upload = widgets.FileUpload()\n",
    "out_pl = widgets.Output()\n",
    "lbl_pred = widgets.Label()"
   ]
  },
  {
   "cell_type": "code",
   "execution_count": 7,
   "id": "7ac7cd06",
   "metadata": {},
   "outputs": [],
   "source": [
    "def on_data_change(change):\n",
    "    lbl_pred.value = ''\n",
    "    img = PILImage.create(btn_upload.data[-1])\n",
    "    out_pl.clear_output()\n",
    "    with out_pl: display(img.to_thumb(128,128))\n",
    "    pred,pred_idx,probs = learn_inf.predict(img)\n",
    "    lbl_pred.value = f'Prediction: {pred}; Probability: {probs[pred_idx]:.04f}'"
   ]
  },
  {
   "cell_type": "code",
   "execution_count": 8,
   "id": "630e3fbc",
   "metadata": {},
   "outputs": [],
   "source": [
    "btn_upload.observe(on_data_change, names=['data'])"
   ]
  },
  {
   "cell_type": "code",
   "execution_count": 9,
   "id": "1c730c60",
   "metadata": {},
   "outputs": [
    {
     "data": {
      "application/vnd.jupyter.widget-view+json": {
       "model_id": "1a1b842e0ce6404e9c21e51f959f40ae",
       "version_major": 2,
       "version_minor": 0
      },
      "text/plain": [
       "VBox(children=(Label(value='Select your bear!'), FileUpload(value={}, description='Upload'), Output(), Label(v…"
      ]
     },
     "metadata": {},
     "output_type": "display_data"
    },
    {
     "data": {
      "text/html": [
       "\n",
       "<style>\n",
       "    /* Turns off some styling */\n",
       "    progress {\n",
       "        /* gets rid of default border in Firefox and Opera. */\n",
       "        border: none;\n",
       "        /* Needs to be in here for Safari polyfill so background images work as expected. */\n",
       "        background-size: auto;\n",
       "    }\n",
       "    progress:not([value]), progress:not([value])::-webkit-progress-bar {\n",
       "        background: repeating-linear-gradient(45deg, #7e7e7e, #7e7e7e 10px, #5c5c5c 10px, #5c5c5c 20px);\n",
       "    }\n",
       "    .progress-bar-interrupted, .progress-bar-interrupted::-webkit-progress-bar {\n",
       "        background: #F44336;\n",
       "    }\n",
       "</style>\n"
      ],
      "text/plain": [
       "<IPython.core.display.HTML object>"
      ]
     },
     "metadata": {},
     "output_type": "display_data"
    },
    {
     "data": {
      "text/html": [],
      "text/plain": [
       "<IPython.core.display.HTML object>"
      ]
     },
     "metadata": {},
     "output_type": "display_data"
    }
   ],
   "source": [
    "display(VBox([widgets.Label('Select your bear!'), btn_upload, out_pl, lbl_pred]))"
   ]
  },
  {
   "cell_type": "code",
   "execution_count": null,
   "id": "14f4a3a0",
   "metadata": {},
   "outputs": [],
   "source": []
  }
 ],
 "metadata": {
  "kernelspec": {
   "display_name": "Python 3 (ipykernel)",
   "language": "python",
   "name": "python3"
  },
  "language_info": {
   "codemirror_mode": {
    "name": "ipython",
    "version": 3
   },
   "file_extension": ".py",
   "mimetype": "text/x-python",
   "name": "python",
   "nbconvert_exporter": "python",
   "pygments_lexer": "ipython3",
   "version": "3.10.13"
  },
  "toc": {
   "base_numbering": 1,
   "nav_menu": {},
   "number_sections": true,
   "sideBar": true,
   "skip_h1_title": false,
   "title_cell": "Table of Contents",
   "title_sidebar": "Contents",
   "toc_cell": false,
   "toc_position": {},
   "toc_section_display": true,
   "toc_window_display": false
  }
 },
 "nbformat": 4,
 "nbformat_minor": 5
}
